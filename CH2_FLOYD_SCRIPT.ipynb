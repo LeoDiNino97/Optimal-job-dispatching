{
 "cells": [
  {
   "attachments": {},
   "cell_type": "markdown",
   "metadata": {},
   "source": [
    "# NBD - Data center module | Challenge 2: workload balancing"
   ]
  },
  {
   "attachments": {},
   "cell_type": "markdown",
   "metadata": {},
   "source": [
    "## Floyd group"
   ]
  },
  {
   "attachments": {},
   "cell_type": "markdown",
   "metadata": {},
   "source": [
    "### Importing libraries and loading data"
   ]
  },
  {
   "cell_type": "code",
   "execution_count": 1,
   "metadata": {},
   "outputs": [],
   "source": [
    "import pandas as pd\n",
    "import numpy as np\n",
    "from matplotlib import pyplot as plt\n",
    "import random as rdm\n",
    "import math\n",
    "from tqdm import tqdm\n",
    "from distfit import distfit\n",
    "import pickle"
   ]
  },
  {
   "cell_type": "code",
   "execution_count": 2,
   "metadata": {},
   "outputs": [],
   "source": [
    "data = pd.read_csv('Cell_a.csv')\n",
    "data = data[data['CPU']!=0]\n",
    "data['Arrival_Time'] = data['Arrival_Time']/1e6"
   ]
  },
  {
   "cell_type": "code",
   "execution_count": 3,
   "metadata": {},
   "outputs": [
    {
     "data": {
      "text/html": [
       "<div>\n",
       "<style scoped>\n",
       "    .dataframe tbody tr th:only-of-type {\n",
       "        vertical-align: middle;\n",
       "    }\n",
       "\n",
       "    .dataframe tbody tr th {\n",
       "        vertical-align: top;\n",
       "    }\n",
       "\n",
       "    .dataframe thead th {\n",
       "        text-align: right;\n",
       "    }\n",
       "</style>\n",
       "<table border=\"1\" class=\"dataframe\">\n",
       "  <thead>\n",
       "    <tr style=\"text-align: right;\">\n",
       "      <th></th>\n",
       "      <th>Job_ID</th>\n",
       "      <th>Task_ID</th>\n",
       "      <th>Arrival_Time</th>\n",
       "      <th>CPU</th>\n",
       "      <th>Memory</th>\n",
       "    </tr>\n",
       "  </thead>\n",
       "  <tbody>\n",
       "    <tr>\n",
       "      <th>0</th>\n",
       "      <td>375000667413</td>\n",
       "      <td>0</td>\n",
       "      <td>6.030263e+02</td>\n",
       "      <td>0.041851</td>\n",
       "      <td>0.001169</td>\n",
       "    </tr>\n",
       "    <tr>\n",
       "      <th>1</th>\n",
       "      <td>375000669289</td>\n",
       "      <td>0</td>\n",
       "      <td>6.064130e+02</td>\n",
       "      <td>0.024968</td>\n",
       "      <td>0.001179</td>\n",
       "    </tr>\n",
       "    <tr>\n",
       "      <th>2</th>\n",
       "      <td>375000670586</td>\n",
       "      <td>0</td>\n",
       "      <td>6.089945e+02</td>\n",
       "      <td>0.024176</td>\n",
       "      <td>0.001173</td>\n",
       "    </tr>\n",
       "    <tr>\n",
       "      <th>3</th>\n",
       "      <td>375000670588</td>\n",
       "      <td>0</td>\n",
       "      <td>6.089945e+02</td>\n",
       "      <td>0.019552</td>\n",
       "      <td>0.001163</td>\n",
       "    </tr>\n",
       "    <tr>\n",
       "      <th>4</th>\n",
       "      <td>375000670590</td>\n",
       "      <td>0</td>\n",
       "      <td>6.090429e+02</td>\n",
       "      <td>0.028044</td>\n",
       "      <td>0.001179</td>\n",
       "    </tr>\n",
       "    <tr>\n",
       "      <th>...</th>\n",
       "      <td>...</td>\n",
       "      <td>...</td>\n",
       "      <td>...</td>\n",
       "      <td>...</td>\n",
       "      <td>...</td>\n",
       "    </tr>\n",
       "    <tr>\n",
       "      <th>2329127</th>\n",
       "      <td>400465207745</td>\n",
       "      <td>0</td>\n",
       "      <td>2.678935e+06</td>\n",
       "      <td>0.004677</td>\n",
       "      <td>0.000067</td>\n",
       "    </tr>\n",
       "    <tr>\n",
       "      <th>2329128</th>\n",
       "      <td>400465219425</td>\n",
       "      <td>0</td>\n",
       "      <td>2.678944e+06</td>\n",
       "      <td>0.000343</td>\n",
       "      <td>0.000004</td>\n",
       "    </tr>\n",
       "    <tr>\n",
       "      <th>2329129</th>\n",
       "      <td>400465219425</td>\n",
       "      <td>1</td>\n",
       "      <td>2.678944e+06</td>\n",
       "      <td>0.000557</td>\n",
       "      <td>0.000004</td>\n",
       "    </tr>\n",
       "    <tr>\n",
       "      <th>2329130</th>\n",
       "      <td>400465256347</td>\n",
       "      <td>0</td>\n",
       "      <td>2.678955e+06</td>\n",
       "      <td>0.002459</td>\n",
       "      <td>0.000050</td>\n",
       "    </tr>\n",
       "    <tr>\n",
       "      <th>2329131</th>\n",
       "      <td>400465256349</td>\n",
       "      <td>0</td>\n",
       "      <td>2.678955e+06</td>\n",
       "      <td>0.004349</td>\n",
       "      <td>0.000052</td>\n",
       "    </tr>\n",
       "  </tbody>\n",
       "</table>\n",
       "<p>2282872 rows × 5 columns</p>\n",
       "</div>"
      ],
      "text/plain": [
       "               Job_ID  Task_ID  Arrival_Time       CPU    Memory\n",
       "0        375000667413        0  6.030263e+02  0.041851  0.001169\n",
       "1        375000669289        0  6.064130e+02  0.024968  0.001179\n",
       "2        375000670586        0  6.089945e+02  0.024176  0.001173\n",
       "3        375000670588        0  6.089945e+02  0.019552  0.001163\n",
       "4        375000670590        0  6.090429e+02  0.028044  0.001179\n",
       "...               ...      ...           ...       ...       ...\n",
       "2329127  400465207745        0  2.678935e+06  0.004677  0.000067\n",
       "2329128  400465219425        0  2.678944e+06  0.000343  0.000004\n",
       "2329129  400465219425        1  2.678944e+06  0.000557  0.000004\n",
       "2329130  400465256347        0  2.678955e+06  0.002459  0.000050\n",
       "2329131  400465256349        0  2.678955e+06  0.004349  0.000052\n",
       "\n",
       "[2282872 rows x 5 columns]"
      ]
     },
     "execution_count": 3,
     "metadata": {},
     "output_type": "execute_result"
    }
   ],
   "source": [
    "data"
   ]
  },
  {
   "attachments": {},
   "cell_type": "markdown",
   "metadata": {},
   "source": [
    "### Explorative data analysis"
   ]
  },
  {
   "cell_type": "code",
   "execution_count": 4,
   "metadata": {},
   "outputs": [
    {
     "data": {
      "text/plain": [
       "count    2.282872e+06\n",
       "mean     4.042883e+00\n",
       "std      1.370927e+02\n",
       "min      9.536743e-07\n",
       "25%      2.730942e-02\n",
       "50%      7.698393e-02\n",
       "75%      2.746394e-01\n",
       "max      5.278707e+04\n",
       "Name: CPU, dtype: float64"
      ]
     },
     "execution_count": 4,
     "metadata": {},
     "output_type": "execute_result"
    }
   ],
   "source": [
    "data['CPU'].describe()"
   ]
  },
  {
   "attachments": {},
   "cell_type": "markdown",
   "metadata": {},
   "source": [
    "Assuming an underlying bounded Pareto process for the task size, we wanted to estimate a maximum likelihood estimator for the value of $\\alpha$ through a repeated subsampling. "
   ]
  },
  {
   "cell_type": "code",
   "execution_count": null,
   "metadata": {},
   "outputs": [],
   "source": [
    "alpha = []\n",
    "M = 1000\n",
    "S = 1000\n",
    "dist = distfit(distr='genpareto')\n",
    "cpu = np.array(data['CPU'])\n",
    "for i in range(M):\n",
    "    subsample = cpu[np.random.randint(0,len(cpu),size=S)]\n",
    "    alpha.append(dist.fit_transform(subsample)['model']['params'][0])"
   ]
  },
  {
   "cell_type": "code",
   "execution_count": 6,
   "metadata": {},
   "outputs": [
    {
     "data": {
      "text/plain": [
       "1.1967717767694361"
      ]
     },
     "execution_count": 6,
     "metadata": {},
     "output_type": "execute_result"
    }
   ],
   "source": [
    "np.mean(alpha)"
   ]
  },
  {
   "attachments": {},
   "cell_type": "markdown",
   "metadata": {},
   "source": [
    "Retrieving some statistics"
   ]
  },
  {
   "cell_type": "code",
   "execution_count": 7,
   "metadata": {},
   "outputs": [],
   "source": [
    "global_var = data['CPU'].var()\n",
    "\n",
    "min_load = data['CPU'].min()\n",
    "max_load = data['CPU'].max()\n",
    "\n",
    "ranging = (min_load, max_load)"
   ]
  },
  {
   "cell_type": "code",
   "execution_count": 8,
   "metadata": {},
   "outputs": [],
   "source": [
    "count = data.groupby('Job_ID')[\"Task_ID\"].count()\n",
    "data = data.merge(count, on='Job_ID')"
   ]
  },
  {
   "cell_type": "code",
   "execution_count": 10,
   "metadata": {},
   "outputs": [],
   "source": [
    "max_multi = data[data['Task_ID_y']!=0]['CPU'].max()\n",
    "min_multi = data[data['Task_ID_y']!=0]['CPU'].min()\n",
    "inner_multi_var = data[data['Task_ID_y']!=0]['CPU'].var()\n",
    "\n",
    "max_single = data[data['Task_ID_y']==1]['CPU'].max()\n",
    "min_single = data[data['Task_ID_y']==1]['CPU'].min()\n",
    "inner_single_var = data[data['Task_ID_y']==1]['CPU'].var()"
   ]
  },
  {
   "cell_type": "code",
   "execution_count": 11,
   "metadata": {},
   "outputs": [],
   "source": [
    "N = pd.unique(data['Job_ID']).shape[0]\n",
    "one_task = data[data['Task_ID_y']==1].shape[0]\n",
    "multi_task = data[data['Task_ID_y']>1].shape[0]\n",
    "props = {'Fraction of one-task-jobs':one_task/N,\n",
    "         'Fraction of multi-task jobs':multi_task/N}\n",
    "\n",
    "stat = pd.Series({\n",
    "    'Global variance':global_var,\n",
    "    'Range':list(ranging),\n",
    "    'Fraction of single-task-jobs': one_task/N,\n",
    "    'Fraction of multi-task-jobs':multi_task/N,\n",
    "    'Single-task max': max_single,\n",
    "    'Single-task min': min_single,\n",
    "    'Inner variance in single-task group': inner_single_var,\n",
    "    'Multi-task job max': max_multi,\n",
    "    'Multi-task job min': min_multi,\n",
    "    'Inner variance in multi-task group': inner_multi_var\n",
    "})"
   ]
  },
  {
   "cell_type": "code",
   "execution_count": 12,
   "metadata": {},
   "outputs": [],
   "source": [
    "jobs = pd.unique(data['Job_ID'])\n",
    "temp = {job:k for (job,k) in zip(jobs, count)}\n",
    "\n",
    "multitask = [job for job in jobs if temp[job]>1]"
   ]
  },
  {
   "cell_type": "code",
   "execution_count": 13,
   "metadata": {},
   "outputs": [],
   "source": [
    "new_stat = pd.Series({\n",
    "    'Variance of total CPU required':inner_multi_var,\n",
    "    'Max value for total CPU required':max_multi,\n",
    "    'Min value for total CPU required':min_multi\n",
    "})"
   ]
  },
  {
   "attachments": {},
   "cell_type": "markdown",
   "metadata": {},
   "source": [
    "____________________"
   ]
  },
  {
   "attachments": {},
   "cell_type": "markdown",
   "metadata": {},
   "source": [
    "# Baseline implementation: LWL + FCFS"
   ]
  },
  {
   "cell_type": "code",
   "execution_count": null,
   "metadata": {},
   "outputs": [],
   "source": [
    "class FCFSServer:\n",
    "    def __init__(self, id):\n",
    "        self.id = id\n",
    "        self.workload = 0\n",
    "        self.queue = []\n",
    "        self.mu = 0.1\n",
    "        self.inactivity = 0\n",
    "    \n",
    "    def enqueue(self, task):\n",
    "        new_job_id = str(int(task[\"Job_ID\"]))+ \"_\" + str(int(task[\"Task_ID\"]))\n",
    "        arrival_time = task[\"Arrival_Time\"]\n",
    "        service_time = (task[\"CPU\"]/self.mu)     \n",
    "        a_dict = {\"id\": new_job_id, \"Arrival Time\": arrival_time, \"Service Time\" : service_time}\n",
    "        self.queue.append(a_dict)"
   ]
  },
  {
   "cell_type": "code",
   "execution_count": null,
   "metadata": {},
   "outputs": [],
   "source": [
    "class LWLDispatcher:\n",
    "    def __init__(self, N, init, duration):\n",
    "        self.N = N\n",
    "        self.farm = [FCFSServer(i) for i in range(self.N)]\n",
    "        self.clock = init\n",
    "        self.duration = duration\n",
    "        self.register = []\n",
    "        self.mu = 0.1\n",
    "\n",
    "    def clock_update(self, task):\n",
    "        self.clock = task['Arrival_Time']\n",
    "\n",
    "    def workload_inactivity_update(self, task):\n",
    "        delta = task['Arrival_Time'] - self.clock\n",
    "        for i in range(self.N):\n",
    "            U = self.farm[i].workload\n",
    "            self.farm[i].workload = max([0, U-(delta)])\n",
    "            self.farm[i].inactivity -= min([0, U-(delta)])\n",
    "        \n",
    "    def queue_manager(self, task):\n",
    "        active_queues = [server for server in self.farm if len(server.queue)>0]\n",
    "        if len(active_queues) != 0:\n",
    "            for server in active_queues:\n",
    "                queue = server.queue\n",
    "                now = task['Arrival_Time']\n",
    "                delta = now-self.clock\n",
    "                while delta > 0 and len(queue) > 0:\n",
    "                    active = queue[0]\n",
    "                    if active['Service Time'] - delta <= 0:\n",
    "                        self.register.append({'Job:':active['id'].split('_')[0],\n",
    "                                            'Task:':active['id'].split('_')[1],\n",
    "                                            'Arrived at': active['Arrival Time'],\n",
    "                                            'Completed at:': now+active['Service Time']-delta})\n",
    "                        server.queue.pop(0)\n",
    "                        delta -= active['Service Time']\n",
    "                        queue = server.queue\n",
    "                    else:\n",
    "                        active['Service Time'] -= delta\n",
    "                        break\n",
    "    \n",
    "    def dispatch(self, task):\n",
    "        workload = np.array([server.workload for server in self.farm])\n",
    "        pointed = np.argmin(workload)\n",
    "        server_ = self.farm[pointed]\n",
    "        server_.enqueue(task)\n",
    "        server_.workload += task['CPU']/self.mu\n",
    "        \n",
    "    \n",
    "    def closing(self):\n",
    "        active_queues = [k for k in range(self.N) if len(self.farm[k].queue)>0]\n",
    "        if len(active_queues) == 0:\n",
    "            return True\n",
    "        else:\n",
    "            for i in active_queues:\n",
    "                Q = self.farm[i].queue\n",
    "                jobs = [task['id'].split('_')[0] for task in Q]\n",
    "                for j in range(len(jobs)):\n",
    "                    job = jobs[j]\n",
    "                    service = Q[j]['Service Time']\n",
    "                    self.register.append({'Job:':Q[j]['id'].split('_')[0],\n",
    "                                            'Task:':Q[j]['id'].split('_')[1],\n",
    "                                            'Completed at:': Q[j]['Arrival Time']+service})                \n",
    "                    if len(jobs[j:]) > 1:\n",
    "                            Q[j+1]['Service Time'] += service\n",
    "                    else:\n",
    "                        break\n",
    "    \n",
    "    def utilization(self):\n",
    "        uts = {}\n",
    "        for i in range(self.N):\n",
    "            uts[i] = 1 - self.farm[i].inactivity/self.duration\n",
    "        return uts"
   ]
  },
  {
   "cell_type": "code",
   "execution_count": null,
   "metadata": {},
   "outputs": [],
   "source": [
    "#Main pipeline\n",
    "duration = data.iloc[data.shape[0]-1,2]-data.iloc[0,2]\n",
    "start = data.iloc[0,2]\n",
    "\n",
    "baseline = LWLDispatcher(64, start, duration)\n",
    "for q in tqdm(range(data.shape[0])):\n",
    "    task = data.iloc[q,].to_dict()\n",
    "    baseline.workload_inactivity_update(task)\n",
    "    baseline.queue_manager(task)\n",
    "    baseline.dispatch(task)\n",
    "    baseline.clock_update(task)\n",
    "baseline.closing()"
   ]
  },
  {
   "cell_type": "code",
   "execution_count": null,
   "metadata": {},
   "outputs": [],
   "source": [
    "jobs = [dic['Job:'] for dic in baseline.register]\n",
    "task = [dic['Task:'] for dic in baseline.register]\n",
    "completion = [dic['Completed at:'] for dic in baseline.register]\n",
    "\n",
    "output = pd.DataFrame({\n",
    "    'Job':jobs,\n",
    "    'Task':task,\n",
    "    'Completion Time':completion\n",
    "})"
   ]
  },
  {
   "cell_type": "code",
   "execution_count": null,
   "metadata": {},
   "outputs": [],
   "source": [
    "output.to_pickle('baseline.pkl')\n",
    "\n",
    "base_uts = baseline.utilization()\n",
    "with open('base_uts.pickle', 'wb') as handle:\n",
    "    pickle.dump(base_uts, handle, protocol=pickle.HIGHEST_PROTOCOL)"
   ]
  },
  {
   "attachments": {},
   "cell_type": "markdown",
   "metadata": {},
   "source": [
    "________________________"
   ]
  },
  {
   "attachments": {},
   "cell_type": "markdown",
   "metadata": {},
   "source": [
    "# Custom design: SITA-E(LWL) + FCFS"
   ]
  },
  {
   "attachments": {},
   "cell_type": "markdown",
   "metadata": {},
   "source": [
    "#### Balancing the thresholds"
   ]
  },
  {
   "cell_type": "code",
   "execution_count": 16,
   "metadata": {},
   "outputs": [],
   "source": [
    "X = np.sort(data['CPU'])\n",
    "quantum = sum(X)/64"
   ]
  },
  {
   "cell_type": "code",
   "execution_count": 22,
   "metadata": {},
   "outputs": [
    {
     "data": {
      "text/plain": [
       "144209.119797647"
      ]
     },
     "execution_count": 22,
     "metadata": {},
     "output_type": "execute_result"
    }
   ],
   "source": [
    "quantum"
   ]
  },
  {
   "cell_type": "code",
   "execution_count": 21,
   "metadata": {},
   "outputs": [
    {
     "data": {
      "text/plain": [
       "9229383.667049408"
      ]
     },
     "execution_count": 21,
     "metadata": {},
     "output_type": "execute_result"
    }
   ],
   "source": [
    "sum(X)"
   ]
  },
  {
   "cell_type": "code",
   "execution_count": null,
   "metadata": {},
   "outputs": [],
   "source": [
    "groups = {i:np.array([]) for i in range(64)}\n",
    "i = 1\n",
    "k = 1\n",
    "while i < 64:\n",
    "    while np.sum(groups[i]) < quantum:\n",
    "        groups[i] = np.append(groups[i], X[k])\n",
    "        k += 1\n",
    "    k += 1\n",
    "    i += 1"
   ]
  },
  {
   "cell_type": "code",
   "execution_count": null,
   "metadata": {},
   "outputs": [],
   "source": [
    "thresholds = {i:0 for i in range(64)}\n",
    "for i in range(64):\n",
    "    thresholds[i] = max(groups[i])"
   ]
  },
  {
   "cell_type": "code",
   "execution_count": null,
   "metadata": {},
   "outputs": [],
   "source": [
    "def server_assign(task):\n",
    "    i = 0\n",
    "    while i < 63:\n",
    "        if task['CPU'] >= thresholds[i]:\n",
    "            i += 1\n",
    "        else:\n",
    "            break\n",
    "    else:\n",
    "        return i\n",
    "    \n",
    "servers_assignment = []\n",
    "for q in tqdm(range(data.shape[0])):\n",
    "    servers_assignment.append(server_assign(data.iloc[q,].to_dict()))\n",
    "\n",
    "data['Clusters'] = np.array(servers_assignment)"
   ]
  },
  {
   "attachments": {},
   "cell_type": "markdown",
   "metadata": {},
   "source": [
    "#### Class for the SITA-E(LWL) dispatcher"
   ]
  },
  {
   "cell_type": "code",
   "execution_count": null,
   "metadata": {},
   "outputs": [],
   "source": [
    "class SITAdispatcher:\n",
    "    def __init__(self, N, init, duration):\n",
    "        self.N = N\n",
    "        self.farm = [FCFSServer(i) for i in range(self.N)]\n",
    "        self.clock = init\n",
    "        self.duration = duration\n",
    "        self.register = []\n",
    "        self.mu = 0.1\n",
    "\n",
    "    def clock_update(self, task):\n",
    "        self.clock = task['Arrival_Time']\n",
    "\n",
    "    def inactivity_update(self, task):\n",
    "        delta = task['Arrival_Time'] - self.clock\n",
    "        for i in set(range(self.N)):\n",
    "            U = self.farm[i].workload\n",
    "            self.farm[i].inactivity -= np.min(np.array([0, U-(delta)]))\n",
    "            self.farm[i].workload = max([0, U-(delta)])\n",
    "        \n",
    "    def queue_manager(self, task):\n",
    "        active_queues = [server for server in self.farm if len(server.queue)>0]\n",
    "        if len(active_queues) != 0:\n",
    "            for server in set(active_queues):\n",
    "                queue = server.queue\n",
    "                now = task['Arrival_Time']\n",
    "                delta = now-self.clock\n",
    "                while delta > 0 and len(queue) > 0:\n",
    "                    active = queue[0]\n",
    "                    if active['Service Time'] - delta <= 0:\n",
    "                        self.register.append({'Job:':active['id'].split('_')[0],\n",
    "                                            'Task:':active['id'].split('_')[1],\n",
    "                                            'Arrived at': active['Arrival Time'],\n",
    "                                            'Completed at:': now+active['Service Time']-delta})\n",
    "                        server.queue.pop(0)\n",
    "                        delta -= active['Service Time']\n",
    "                        queue = server.queue\n",
    "                    else:\n",
    "                        active['Service Time'] -= delta\n",
    "                        break\n",
    "    \n",
    "    def dispatch(self, task, µ = 0.1):\n",
    "        runn = (task[\"CPU\"]/µ)\n",
    "        pointed = int(task['Clusters'])\n",
    "        if pointed == 0:\n",
    "            if (self.farm[0].workload > self.farm[62].workload) and (self.farm[62].workload >= self.farm[63].workload):\n",
    "                pointed = 63\n",
    "            elif (self.farm[0].workload > self.farm[62].workload) and (self.farm[62].workload < self.farm[63].workload):\n",
    "                pointed = 62\n",
    "            else: \n",
    "                pointed = 0\n",
    "        server_ = self.farm[pointed]\n",
    "        server_.enqueue(task)\n",
    "        self.farm[pointed].workload += runn\n",
    "    \n",
    "    def closing(self):\n",
    "        active_queues = [k for k in range(self.N) if len(self.farm[k].queue)>0]\n",
    "        if len(active_queues) == 0:\n",
    "            return True\n",
    "        else:\n",
    "            for i in active_queues:\n",
    "                Q = self.farm[i].queue\n",
    "                jobs = [task['id'].split('_')[0] for task in Q]\n",
    "                for j in range(len(jobs)):\n",
    "                    job = jobs[j]\n",
    "                    service = Q[j]['Service Time']\n",
    "                    self.register.append({'Job:':Q[j]['id'].split('_')[0],\n",
    "                                            'Task:':Q[j]['id'].split('_')[1],\n",
    "                                            'Completed at:': Q[j]['Arrival Time']+service})                \n",
    "                    if len(jobs[j:]) > 1:\n",
    "                            Q[j+1]['Service Time'] += service\n",
    "                    else:\n",
    "                        break\n",
    "    \n",
    "    def utilization(self):\n",
    "        uts = {}\n",
    "        for i in range(self.N):\n",
    "            uts[i] = 1 - self.farm[i].inactivity/self.duration\n",
    "        return uts"
   ]
  },
  {
   "cell_type": "code",
   "execution_count": null,
   "metadata": {},
   "outputs": [],
   "source": [
    "#Main pipeline\n",
    "duration = data.iloc[data.shape[0]-1,2]-data.iloc[0,2]\n",
    "start = data.iloc[0,2]\n",
    "\n",
    "custom = SITAdispatcher(64, start, duration)\n",
    "for q in tqdm(range(data.shape[0])):\n",
    "    task = data.iloc[q,].to_dict()\n",
    "    custom.inactivity_update(task)\n",
    "    custom.queue_manager(task)\n",
    "    custom.dispatch(task)\n",
    "    custom.clock_update(task)\n",
    "custom.closing()"
   ]
  },
  {
   "cell_type": "code",
   "execution_count": null,
   "metadata": {},
   "outputs": [],
   "source": [
    "jobs = [dic['Job:'] for dic in custom.register]\n",
    "task = [dic['Task:'] for dic in custom.register]\n",
    "completion = [dic['Completed at:'] for dic in custom.register]\n",
    "\n",
    "output = pd.DataFrame({\n",
    "    'Job':jobs,\n",
    "    'Task':task,\n",
    "    'Completion Time':completion\n",
    "})"
   ]
  },
  {
   "cell_type": "code",
   "execution_count": null,
   "metadata": {},
   "outputs": [],
   "source": [
    "output.to_pickle('custom.pkl')\n",
    "\n",
    "cust_uts = custom.utilization()\n",
    "with open('cust_uts.pickle', 'wb') as handle:\n",
    "    pickle.dump(cust_uts, handle, protocol=pickle.HIGHEST_PROTOCOL)"
   ]
  },
  {
   "attachments": {},
   "cell_type": "markdown",
   "metadata": {},
   "source": [
    "_________________"
   ]
  },
  {
   "attachments": {},
   "cell_type": "markdown",
   "metadata": {},
   "source": [
    "# Visualization"
   ]
  },
  {
   "cell_type": "code",
   "execution_count": 23,
   "metadata": {},
   "outputs": [],
   "source": [
    "def ecdf(data):\n",
    "    x = np.sort(data)\n",
    "    n = x.size\n",
    "    y = np.arange(1, n+1) / n\n",
    "    return(x,y)"
   ]
  },
  {
   "cell_type": "code",
   "execution_count": 24,
   "metadata": {},
   "outputs": [],
   "source": [
    "with open('./baseline.pkl','rb') as f1:\n",
    "    base = pickle.load(f1)\n",
    "with open(\"./custom.pkl\",'rb') as f2:\n",
    "    cust = pickle.load(f2)"
   ]
  },
  {
   "cell_type": "code",
   "execution_count": 25,
   "metadata": {},
   "outputs": [],
   "source": [
    "arrival_times = data.groupby('Job_ID')['Arrival_Time'].min()\n",
    "\n",
    "cust_completion_times = cust.groupby('Job')['Completion Time'].max()\n",
    "cust_arrival_times = data.groupby('Job_ID')['Arrival_Time'].min()\n",
    "cust_job_response_times = np.array(cust_completion_times)-np.array(arrival_times)\n",
    "\n",
    "base_completion_times = base.groupby('Job')['Completion Time'].max()\n",
    "base_arrival_times = data.groupby('Job_ID')['Arrival_Time'].min()\n",
    "base_job_response_times = np.array(base_completion_times)-np.array(arrival_times)"
   ]
  },
  {
   "cell_type": "code",
   "execution_count": 26,
   "metadata": {},
   "outputs": [],
   "source": [
    "cust_mean_job = np.mean(cust_job_response_times)\n",
    "base_mean_job = np.mean(base_job_response_times)"
   ]
  },
  {
   "cell_type": "code",
   "execution_count": 27,
   "metadata": {},
   "outputs": [
    {
     "data": {
      "text/plain": [
       "27603.901135085016"
      ]
     },
     "execution_count": 27,
     "metadata": {},
     "output_type": "execute_result"
    }
   ],
   "source": [
    "base_mean_job"
   ]
  },
  {
   "cell_type": "code",
   "execution_count": 28,
   "metadata": {},
   "outputs": [
    {
     "data": {
      "text/plain": [
       "739.7719594786453"
      ]
     },
     "execution_count": 28,
     "metadata": {},
     "output_type": "execute_result"
    }
   ],
   "source": [
    "cust_mean_job"
   ]
  },
  {
   "cell_type": "code",
   "execution_count": 65,
   "metadata": {},
   "outputs": [
    {
     "data": {
      "text/plain": [
       "<matplotlib.legend.Legend at 0x20096cf3970>"
      ]
     },
     "execution_count": 65,
     "metadata": {},
     "output_type": "execute_result"
    },
    {
     "data": {
      "image/png": "[encoded data removed]",
      "text/plain": [
       "<Figure size 640x480 with 1 Axes>"
      ]
     },
     "metadata": {},
     "output_type": "display_data"
    }
   ],
   "source": [
    "bq_t, bp_t = ecdf(base_job_response_times)\n",
    "cq_t, cp_t = ecdf(cust_job_response_times)\n",
    "\n",
    "plt.plot(bq_t, 1-bp_t, label='Baseline')\n",
    "plt.plot(cq_t, 1-cp_t, label='Custom')\n",
    "\n",
    "plt.xscale('log')\n",
    "plt.xlabel('log(job reponse time)')\n",
    "plt.ylabel('eCCDF')\n",
    "plt.grid(linewidth=0.4)\n",
    "plt.legend()"
   ]
  },
  {
   "cell_type": "code",
   "execution_count": 30,
   "metadata": {},
   "outputs": [],
   "source": [
    "tot_cpu = data.groupby('Job_ID')['CPU'].sum()\n",
    "tot_cpu = tot_cpu/0.1\n",
    "\n",
    "base_slow_down = base_job_response_times/np.array(tot_cpu)\n",
    "cust_slow_down = cust_job_response_times/np.array(tot_cpu)\n",
    "\n",
    "base_mean_slow = np.mean(base_slow_down)\n",
    "cust_mean_slow = np.mean(cust_slow_down)"
   ]
  },
  {
   "cell_type": "code",
   "execution_count": 31,
   "metadata": {},
   "outputs": [
    {
     "data": {
      "text/plain": [
       "<matplotlib.legend.Legend at 0x20049c83fd0>"
      ]
     },
     "execution_count": 31,
     "metadata": {},
     "output_type": "execute_result"
    },
    {
     "data": {
      "image/png": "[encoded data removed]",
      "text/plain": [
       "<Figure size 640x480 with 1 Axes>"
      ]
     },
     "metadata": {},
     "output_type": "display_data"
    }
   ],
   "source": [
    "bq_s, bp_s = ecdf(base_slow_down)\n",
    "cq_s, cp_s = ecdf(cust_slow_down)\n",
    "\n",
    "plt.plot(bq_s, 1-bp_s, label='Baseline')\n",
    "plt.plot(cq_s, 1-cp_s, label='Custom')\n",
    "plt.xscale('log')\n",
    "plt.xlabel('log(job slow down)')\n",
    "plt.ylabel('eCCDF')\n",
    "plt.grid(linewidth=0.4)\n",
    "plt.legend()"
   ]
  },
  {
   "cell_type": "code",
   "execution_count": 32,
   "metadata": {},
   "outputs": [],
   "source": [
    "with open('./base_uts.pickle','rb') as f1:\n",
    "    base_uts = pickle.load(f1)\n",
    "with open(\"./cust_uts.pickle\",'rb') as f2:\n",
    "    cust_uts = pickle.load(f2)"
   ]
  },
  {
   "cell_type": "code",
   "execution_count": 33,
   "metadata": {},
   "outputs": [
    {
     "data": {
      "text/plain": [
       "<matplotlib.lines.Line2D at 0x2000b98fc40>"
      ]
     },
     "execution_count": 33,
     "metadata": {},
     "output_type": "execute_result"
    },
    {
     "data": {
      "image/png": "[encoded data removed]",
      "text/plain": [
       "<Figure size 640x480 with 1 Axes>"
      ]
     },
     "metadata": {},
     "output_type": "display_data"
    }
   ],
   "source": [
    "plt.bar(base_uts.keys(), base_uts.values())\n",
    "plt.ylim((0,1))\n",
    "plt.grid(linewidth=0.4)\n",
    "plt.xlabel('ServerID')\n",
    "plt.ylabel('Utilization')\n",
    "plt.axhline(y=np.mean(np.array(list(base_uts.values()))), color='red', linestyle=':')"
   ]
  },
  {
   "cell_type": "code",
   "execution_count": 34,
   "metadata": {},
   "outputs": [
    {
     "data": {
      "text/plain": [
       "<matplotlib.lines.Line2D at 0x20041a456f0>"
      ]
     },
     "execution_count": 34,
     "metadata": {},
     "output_type": "execute_result"
    },
    {
     "data": {
      "image/png": "[encoded data removed]",
      "text/plain": [
       "<Figure size 640x480 with 1 Axes>"
      ]
     },
     "metadata": {},
     "output_type": "display_data"
    }
   ],
   "source": [
    "plt.bar(cust_uts.keys(), cust_uts.values(), color='orange')\n",
    "plt.ylim((0,1))\n",
    "plt.grid(linewidth=0.4)\n",
    "plt.xlabel('ServerID')\n",
    "plt.ylabel('Utilization')\n",
    "plt.axhline(y=np.mean(np.array(list(cust_uts.values()))), color='red', linestyle=':')"
   ]
  },
  {
   "cell_type": "code",
   "execution_count": 35,
   "metadata": {},
   "outputs": [],
   "source": [
    "cust_mean_job = np.mean(cust_job_response_times)\n",
    "base_mean_job = np.mean(base_job_response_times)\n",
    "\n",
    "mean_base_uts = np.mean(np.array(list(base_uts.values())))\n",
    "mean_cust_uts = np.mean(np.array(list(cust_uts.values())))\n",
    "\n",
    "base_mean_slow = np.mean(base_slow_down)\n",
    "cust_mean_slow = np.mean(cust_slow_down)\n",
    "\n",
    "base_load = 129\n",
    "cust_load = (1752627*7 + data.shape[0]-1752627)/data.shape[0]"
   ]
  },
  {
   "cell_type": "code",
   "execution_count": 52,
   "metadata": {},
   "outputs": [],
   "source": [
    "metrics = pd.DataFrame({\n",
    "    'Mean Job Response Time': [round(base_mean_job,2),round(cust_mean_job,2)],\n",
    "    'Mean Job Slow Down': [base_mean_slow,cust_mean_slow],\n",
    "    'Mean utilization': [mean_base_uts,mean_cust_uts],\n",
    "    'Mean Message Load': [int(base_load),round(cust_load,2)]\n",
    "})\n",
    "\n",
    "metrics.index = ['Baseline','Custom']"
   ]
  },
  {
   "cell_type": "code",
   "execution_count": 53,
   "metadata": {},
   "outputs": [
    {
     "data": {
      "text/html": [
       "<div>\n",
       "<style scoped>\n",
       "    .dataframe tbody tr th:only-of-type {\n",
       "        vertical-align: middle;\n",
       "    }\n",
       "\n",
       "    .dataframe tbody tr th {\n",
       "        vertical-align: top;\n",
       "    }\n",
       "\n",
       "    .dataframe thead th {\n",
       "        text-align: right;\n",
       "    }\n",
       "</style>\n",
       "<table border=\"1\" class=\"dataframe\">\n",
       "  <thead>\n",
       "    <tr style=\"text-align: right;\">\n",
       "      <th></th>\n",
       "      <th>Mean Job Response Time</th>\n",
       "      <th>Mean Job Slow Down</th>\n",
       "      <th>Mean utilization</th>\n",
       "      <th>Mean Message Load</th>\n",
       "    </tr>\n",
       "  </thead>\n",
       "  <tbody>\n",
       "    <tr>\n",
       "      <th>Baseline</th>\n",
       "      <td>27603.90</td>\n",
       "      <td>1.241676e+06</td>\n",
       "      <td>0.538425</td>\n",
       "      <td>129.00</td>\n",
       "    </tr>\n",
       "    <tr>\n",
       "      <th>Custom</th>\n",
       "      <td>739.77</td>\n",
       "      <td>7.548976e+02</td>\n",
       "      <td>0.528506</td>\n",
       "      <td>5.61</td>\n",
       "    </tr>\n",
       "  </tbody>\n",
       "</table>\n",
       "</div>"
      ],
      "text/plain": [
       "          Mean Job Response Time  Mean Job Slow Down  Mean utilization  \\\n",
       "Baseline                27603.90        1.241676e+06          0.538425   \n",
       "Custom                    739.77        7.548976e+02          0.528506   \n",
       "\n",
       "          Mean Message Load  \n",
       "Baseline             129.00  \n",
       "Custom                 5.61  "
      ]
     },
     "execution_count": 53,
     "metadata": {},
     "output_type": "execute_result"
    }
   ],
   "source": [
    "metrics"
   ]
  },
  {
   "cell_type": "code",
   "execution_count": null,
   "metadata": {},
   "outputs": [],
   "source": [
    "print"
   ]
  }
 ],
 "metadata": {
  "kernelspec": {
   "display_name": "Python 3",
   "language": "python",
   "name": "python3"
  },
  "language_info": {
   "codemirror_mode": {
    "name": "ipython",
    "version": 3
   },
   "file_extension": ".py",
   "mimetype": "text/x-python",
   "name": "python",
   "nbconvert_exporter": "python",
   "pygments_lexer": "ipython3",
   "version": "3.10.7"
  },
  "orig_nbformat": 4
 },
 "nbformat": 4,
 "nbformat_minor": 2
}
